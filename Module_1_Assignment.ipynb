{
 "cells": [
  {
   "cell_type": "markdown",
   "metadata": {},
   "source": [
    "# Week 1 Assignment\n",
    "\n",
    "* Download the \"Week_1_Assignment.ipynb\" notebook \n",
    "* Fill in the code in the cells marked with `# YOUR ANSWER HERE:` by answering the question/task defined in the cell above it starting with `GRADED:`\n",
    "* `VERY IMPORTANT`: Code cells outside of `# YOUR ANSWER HERE:` will not be considered for grading. \n",
    "  * Feel free to write outside of it for debugging\n",
    "* `DO NOT` fill your asnwers with many `print` statements. Only use `print` if the assignment asked explcitly. For example, if you are asked to write a function to calculate the sum of two numbers--the function should return that value, `NOT` a `print` statement of the value.\n",
    "* Submit the updated notebook\n",
    "  * Make sure to save your changes before submitting it!"
   ]
  },
  {
   "cell_type": "code",
   "execution_count": 1,
   "metadata": {},
   "outputs": [],
   "source": [
    "#Import necessary libraries\n",
    "import pandas as pd\n",
    "import numpy as np"
   ]
  },
  {
   "cell_type": "markdown",
   "metadata": {},
   "source": [
    "`GRADED [1]`: Provided below are functions that are:\n",
    "- completely defined: `add_numbers`;\n",
    "- partially defined: `min_square`; _and_\n",
    "- not defined at all: `sum_squares`\n",
    "\n",
    " 1. Complete `min_square` so that it returns the minimum of (square root of `a` and square root of `b`)\n",
    " 2. Write a function called `sum_squares` that returns the sum of the square root of `a` and the square root of `b`."
   ]
  },
  {
   "cell_type": "code",
   "execution_count": 2,
   "metadata": {},
   "outputs": [],
   "source": [
    "# [1] YOUR ANSWER HERE:\n",
    "\n",
    "def add_numbers(x, y):\n",
    "    result = x + y\n",
    "    return result\n",
    "\n",
    "def min_square(a, b):\n",
    "    # Write code to return the lower of (minimum of) square root of a and square root of b\n",
    "    result =  min(a**0.5, b**0.5)\n",
    "    return result\n",
    "\n",
    "def sum_squares(a, b):\n",
    "    result = a**0.5 + b**0.5\n",
    "    return result"
   ]
  },
  {
   "cell_type": "code",
   "execution_count": 5,
   "metadata": {},
   "outputs": [
    {
     "name": "stdout",
     "output_type": "stream",
     "text": [
      "19\n",
      "2.0\n",
      "5.0\n"
     ]
    }
   ],
   "source": [
    "print(add_numbers(9, 10))\n",
    "print(min_square(9, 4))\n",
    "print(sum_squares(4, 9))"
   ]
  },
  {
   "cell_type": "markdown",
   "metadata": {},
   "source": [
    "`GRADED [2]`: Write a function called `personal_info` that takes a a last name, age, and a home town (a total of 3 arguments) and returns a full sentence string with the following content and format: `Your last name is [name], you are [age] years old, and you live in [city].`--where the values in square brackets are the actual values of the tree arguments provided by the function. Please make sure that you follow the format and grammar of the sentence exactly as defined and that you use `f-string` Python string formatting--any other type of formatting will receive reduced points.\n",
    "_Hint_: Your string shold follow the Python f-strings formatting functionality. https://realpython.com/python-f-strings/"
   ]
  },
  {
   "cell_type": "code",
   "execution_count": 6,
   "metadata": {},
   "outputs": [],
   "source": [
    "# [2] YOUR ANSER HERE\n",
    "def personal_info(l_name: str, age: int, home_town: str) -> str:\n",
    "    return f'Your last name is {l_name}, you are {age} years old, and you live in {home_town}.'"
   ]
  },
  {
   "cell_type": "code",
   "execution_count": 7,
   "metadata": {},
   "outputs": [
    {
     "data": {
      "text/plain": [
       "'Your last name is Smith, you are 30 years old, and you live in Boston.'"
      ]
     },
     "execution_count": 7,
     "metadata": {},
     "output_type": "execute_result"
    }
   ],
   "source": [
    "personal_info('Smith', 30, 'Boston')  # please do not modify this cell"
   ]
  },
  {
   "cell_type": "markdown",
   "metadata": {
    "collapsed": true
   },
   "source": [
    "`GRADED [3]`: Using a `while` loop: loop over every sequential _odd_ number between `2` and `19` (__`inclusive`__); in the same `while` loop print __`only`__ every 3rd sequential of those odd numnbers you have encountered in the loop."
   ]
  },
  {
   "cell_type": "code",
   "execution_count": 8,
   "metadata": {},
   "outputs": [
    {
     "name": "stdout",
     "output_type": "stream",
     "text": [
      "7 13 19 "
     ]
    }
   ],
   "source": [
    "# [3] YOUR ANSER HERE:\n",
    "i = 2\n",
    "flag = 1\n",
    "while i <= 19:\n",
    "    if i % 2:\n",
    "        if flag == 3:\n",
    "            print(i, end=' ')\n",
    "            flag = 0\n",
    "            continue\n",
    "        flag += 1\n",
    "    i += 1"
   ]
  },
  {
   "cell_type": "markdown",
   "metadata": {},
   "source": [
    "`GRADED [4]`: Define a function called `length_converter` that takes as an argument a length in `meters` and __prints__ the equivalent distance in `miles` using the following sentence: `Original length was [..] meters, which equals [..] miles.`"
   ]
  },
  {
   "cell_type": "code",
   "execution_count": 9,
   "metadata": {},
   "outputs": [],
   "source": [
    "# [4] YOUR ANSWER HERE:\n",
    "def length_converter(met):\n",
    "    print(f'Original length was {met} meters, which equals {met * 6.213712E-4} miles.')"
   ]
  },
  {
   "cell_type": "code",
   "execution_count": 10,
   "metadata": {},
   "outputs": [
    {
     "name": "stdout",
     "output_type": "stream",
     "text": [
      "Original length was 5000 meters, which equals 3.106856 miles.\n"
     ]
    }
   ],
   "source": [
    "length_converter(5000)  # please do not modify this cell"
   ]
  }
 ],
 "metadata": {
  "kernelspec": {
   "display_name": "Python 3 (ipykernel)",
   "language": "python",
   "name": "python3"
  },
  "language_info": {
   "codemirror_mode": {
    "name": "ipython",
    "version": 3
   },
   "file_extension": ".py",
   "mimetype": "text/x-python",
   "name": "python",
   "nbconvert_exporter": "python",
   "pygments_lexer": "ipython3",
   "version": "3.11.3"
  }
 },
 "nbformat": 4,
 "nbformat_minor": 2
}
