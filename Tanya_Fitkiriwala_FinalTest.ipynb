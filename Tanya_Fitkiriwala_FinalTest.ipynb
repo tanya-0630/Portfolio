{
 "cells": [
  {
   "cell_type": "code",
   "execution_count": 56,
   "id": "0c5c1804",
   "metadata": {},
   "outputs": [],
   "source": [
    "import pandas as pd\n",
    "from sklearn.model_selection import train_test_split\n",
    "from sklearn.linear_model import LinearRegression\n",
    "from sklearn.metrics import accuracy_score, mean_squared_error\n",
    "import numpy as np\n",
    "from sklearn.linear_model import LinearRegression, LogisticRegression\n",
    "from sklearn.neighbors import KNeighborsClassifier\n",
    "from statsmodels.api import OLS\n",
    "import itertools\n",
    "from sklearn.preprocessing import LabelEncoder\n"
   ]
  },
  {
   "cell_type": "code",
   "execution_count": 57,
   "id": "b2637a37",
   "metadata": {},
   "outputs": [
    {
     "data": {
      "text/plain": [
       "Index(['date', 'time', 'ge', 'ibm', 'ford', 'msft', 'dis', 'xom', 'mkt',\n",
       "       'riskfree'],\n",
       "      dtype='object')"
      ]
     },
     "execution_count": 57,
     "metadata": {},
     "output_type": "execute_result"
    }
   ],
   "source": [
    "# Load the dataset\n",
    "data = pd.read_excel('capm5-1.xlsx')  # Replace with the actual dataset path\n",
    "data.columns\n"
   ]
  },
  {
   "cell_type": "code",
   "execution_count": 58,
   "id": "d36ff904",
   "metadata": {},
   "outputs": [],
   "source": [
    "# Create a binary variable for MKT\n",
    "data['MKT_BINARY'] = np.where(data['mkt'] > 0, 'UP', 'DOWN')\n",
    "\n",
    "# Split the data into training and testing sets\n",
    "train_data = data[:90]\n",
    "test_data = data[90:]\n",
    "\n"
   ]
  },
  {
   "cell_type": "code",
   "execution_count": 59,
   "id": "fec63399",
   "metadata": {},
   "outputs": [],
   "source": [
    "# Select predictors for classification\n",
    "predictors_a = ['ge', 'ibm', 'ford', 'msft', 'dis', 'xom', 'riskfree']\n",
    "predictors_b = ['ge', 'ibm', 'ford', 'msft', 'dis', 'xom']\n",
    "predictors_c = ['ge', 'ibm', 'ford', 'msft', 'dis']"
   ]
  },
  {
   "cell_type": "code",
   "execution_count": 60,
   "id": "31c57510",
   "metadata": {},
   "outputs": [],
   "source": [
    "# Classification using Logistic Regression\n",
    "X_train = train_data[predictors_a]\n",
    "y_train = train_data['MKT_BINARY']\n",
    "X_test = test_data[predictors_a]\n",
    "y_test = test_data['MKT_BINARY']\n",
    "\n",
    "logistic_model = LogisticRegression()\n",
    "logistic_model.fit(X_train, y_train)\n",
    "logistic_predictions = logistic_model.predict(X_test)\n",
    "logistic_accuracy = accuracy_score(y_test, logistic_predictions)\n"
   ]
  },
  {
   "cell_type": "code",
   "execution_count": 61,
   "id": "2dac4a16",
   "metadata": {},
   "outputs": [],
   "source": [
    "# Classification using K-Nearest Neighbors\n",
    "\n",
    "X_train = train_data[predictors_b]\n",
    "y_train = train_data['MKT_BINARY']\n",
    "X_test = test_data[predictors_b]\n",
    "y_test = test_data['MKT_BINARY']\n",
    "\n",
    "knn_model = KNeighborsClassifier()\n",
    "knn_model.fit(X_train, y_train)\n",
    "knn_predictions = knn_model.predict(X_test)\n",
    "knn_accuracy = accuracy_score(y_test, knn_predictions)\n",
    "\n"
   ]
  },
  {
   "cell_type": "code",
   "execution_count": 62,
   "id": "9b53261b",
   "metadata": {},
   "outputs": [],
   "source": [
    "# Linear Regression for regression\n",
    "X_reg_train = train_data[predictors_c]\n",
    "y_reg_train = train_data['mkt']\n",
    "X_reg_test = test_data[predictors_c]\n",
    "y_reg_test = test_data['mkt']\n",
    "\n",
    "linear_reg_model = LinearRegression()\n",
    "linear_reg_model.fit(X_reg_train, y_reg_train)\n",
    "reg_predictions = linear_reg_model.predict(X_reg_test)\n",
    "reg_mse = mean_squared_error(y_reg_test, reg_predictions)\n",
    "\n"
   ]
  },
  {
   "cell_type": "code",
   "execution_count": 63,
   "id": "2d52d513",
   "metadata": {},
   "outputs": [
    {
     "name": "stdout",
     "output_type": "stream",
     "text": [
      "Logistic Regression Accuracy: 0.7333333333333333\n",
      "K-Nearest Neighbors Accuracy: 0.8444444444444444\n",
      "Linear Regression Mean Squared Error: 0.0005395647247954978\n"
     ]
    }
   ],
   "source": [
    "# Summarize and report findings\n",
    "print(\"Logistic Regression Accuracy:\", logistic_accuracy)\n",
    "print(\"K-Nearest Neighbors Accuracy:\", knn_accuracy)\n",
    "print(\"Linear Regression Mean Squared Error:\", reg_mse)\n"
   ]
  }
 ],
 "metadata": {
  "kernelspec": {
   "display_name": "Python 3 (ipykernel)",
   "language": "python",
   "name": "python3"
  },
  "language_info": {
   "codemirror_mode": {
    "name": "ipython",
    "version": 3
   },
   "file_extension": ".py",
   "mimetype": "text/x-python",
   "name": "python",
   "nbconvert_exporter": "python",
   "pygments_lexer": "ipython3",
   "version": "3.11.3"
  }
 },
 "nbformat": 4,
 "nbformat_minor": 5
}
